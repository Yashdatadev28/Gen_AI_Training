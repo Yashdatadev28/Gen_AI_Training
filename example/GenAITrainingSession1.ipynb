{
  "nbformat": 4,
  "nbformat_minor": 0,
  "metadata": {
    "colab": {
      "provenance": [],
      "include_colab_link": true
    },
    "kernelspec": {
      "name": "python3",
      "display_name": "Python 3"
    },
    "language_info": {
      "name": "python"
    }
  },
  "cells": [
    {
      "cell_type": "markdown",
      "metadata": {
        "id": "view-in-github",
        "colab_type": "text"
      },
      "source": [
        "<a href=\"https://colab.research.google.com/github/Yashdatadev28/Gen_AI_Training/blob/main/example/GenAITrainingSession1.ipynb\" target=\"_parent\"><img src=\"https://colab.research.google.com/assets/colab-badge.svg\" alt=\"Open In Colab\"/></a>"
      ]
    },
    {
      "cell_type": "code",
      "source": [
        "# !pip install -U langchain-groq\n",
        "# !pip install streamlit"
      ],
      "metadata": {
        "id": "xFeBejXu512N"
      },
      "execution_count": 66,
      "outputs": []
    },
    {
      "cell_type": "code",
      "source": [
        "from google.colab import userdata\n",
        "\n",
        "api_key = userdata.get('API_KEY')"
      ],
      "metadata": {
        "id": "qMakSL4MSRSN"
      },
      "execution_count": 67,
      "outputs": []
    },
    {
      "cell_type": "code",
      "source": [
        "from langchain.chat_models import init_chat_model\n",
        "\n",
        "model = init_chat_model(\"llama3-8b-8192\", model_provider=\"groq\",api_key=api_key)"
      ],
      "metadata": {
        "id": "RCMPi2WdR7Lc"
      },
      "execution_count": 68,
      "outputs": []
    },
    {
      "cell_type": "code",
      "source": [
        "response = model.invoke('Write a SQL code to fetch employee name, salary, department name, manager from employee table ')\n",
        "#print(response.content)\n",
        "\n",
        "import streamlit as st\n",
        "st.title('Llama Bot 🤖')\n",
        "print('')\n",
        "st.markdown(response.content)"
      ],
      "metadata": {
        "colab": {
          "base_uri": "https://localhost:8080/",
          "height": 510
        },
        "id": "eNOr1IKqSZfO",
        "outputId": "afaa2b99-8b76-4600-da09-60b54734b998"
      },
      "execution_count": 72,
      "outputs": [
        {
          "output_type": "display_data",
          "data": {
            "text/plain": [
              "<IPython.core.display.Markdown object>"
            ],
            "text/markdown": "# Llama Bot 🤖"
          },
          "metadata": {}
        },
        {
          "output_type": "stream",
          "name": "stdout",
          "text": [
            "\n"
          ]
        },
        {
          "output_type": "display_data",
          "data": {
            "text/plain": [
              "<IPython.core.display.Markdown object>"
            ],
            "text/markdown": "Here is the SQL code to fetch employee name, salary, department name, and manager from the employee table:\n```\nSELECT \n    e.name, \n    e.salary, \n    d.name AS department_name, \n    m.name AS manager_name\nFROM \n    employees e\nJOIN \n    departments d ON e.department_id = d.id\nLEFT JOIN \n    employees m ON e.manager_id = m.id;\n```\nHere's a breakdown of the code:\n\n* `SELECT` clause: We select the columns we want to retrieve: `e.name` (employee name), `e.salary`, `d.name` (department name), and `m.name` (manager name).\n* `FROM` clause: We specify the table we want to retrieve data from, which is `employees` (aliased as `e`).\n* `JOIN` clause: We join the `employees` table with the `departments` table on the `department_id` column. This allows us to link each employee to their department.\n* `LEFT JOIN` clause: We use a left join to link each employee to their manager. If an employee does not have a manager (i.e., `manager_id` is null), the result will still include the employee's information with a null value for the manager's name.\n* `AS` keyword: We use the `AS` keyword to give aliases to the department and manager names, so they can be easily identified in the result set.\n\nNote: The exact column names and table names may vary depending on your specific database schema. This code assumes that the `employees` table has columns named `name`, `salary`, `department_id`, and `manager_id`, and that the `departments` table has a column named `name`."
          },
          "metadata": {}
        }
      ]
    },
    {
      "cell_type": "code",
      "source": [],
      "metadata": {
        "id": "1TnXNgCYz4Gz"
      },
      "execution_count": 69,
      "outputs": []
    }
  ]
}